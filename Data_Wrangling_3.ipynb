{
  "metadata": {
    "kernelspec": {
      "name": "python",
      "display_name": "Python (Pyodide)",
      "language": "python"
    },
    "language_info": {
      "codemirror_mode": {
        "name": "python",
        "version": 3
      },
      "file_extension": ".py",
      "mimetype": "text/x-python",
      "name": "python",
      "nbconvert_exporter": "python",
      "pygments_lexer": "ipython3",
      "version": "3.8"
    }
  },
  "nbformat_minor": 4,
  "nbformat": 4,
  "cells": [
    {
      "cell_type": "code",
      "source": "import pandas as pd\ncar_selling_data = {'Brand':['Maruti','Maruti','Maruti','Maruti','Hyundai','Hyundai','Toyota','Mahindra','Mahindra','Ford','Toyota','Ford'],\n                    'Year':[2010, 2011, 2009, 2013, 2010, 2011, 2011, 2010, 2013, 2010, 2010, 2011],\n                    'Sold':[6, 7, 9, 8, 3, 5,2, 8, 7, 2, 4, 2]}\ndf = pd. DataFrame(car_selling_data)\nprint(\"\\nOriginal DataFrame:\\n\",df)\ngrouped = df.groupby('Year')\nprint(\"\\nGroup by year 2010:\\n\",grouped.get_group(2010))",
      "metadata": {
        "trusted": true
      },
      "outputs": [
        {
          "name": "stdout",
          "text": "\nOriginal DataFrame:\n        Brand  Year  Sold\n0     Maruti  2010     6\n1     Maruti  2011     7\n2     Maruti  2009     9\n3     Maruti  2013     8\n4    Hyundai  2010     3\n5    Hyundai  2011     5\n6     Toyota  2011     2\n7   Mahindra  2010     8\n8   Mahindra  2013     7\n9       Ford  2010     2\n10    Toyota  2010     4\n11      Ford  2011     2\n\nGroup by year 2010:\n        Brand  Year  Sold\n0     Maruti  2010     6\n4    Hyundai  2010     3\n7   Mahindra  2010     8\n9       Ford  2010     2\n10    Toyota  2010     4\n",
          "output_type": "stream"
        }
      ],
      "execution_count": 5
    },
    {
      "cell_type": "code",
      "source": "student_data = {'Name': ['Amit', 'Praveen', 'Jagadesh','Rahul', 'Vishal', 'Suraj','Rishab', 'Sathish', 'Amit','Rahul', 'Praveen', 'Amit'],\n                'Roll_no': [23,54,29,36,23,38,12,45,34,36,54,23],\n                'Email': ['xxxx@gmail.com', 'xxxxxx@gmail.com','xxxxxx@gmail.com','xx@gmail.com',\n                            'xxxx@gmail.com', 'xxxxx@gmail.com','xxxxx@gmail.com', 'xxxxx@gmail.com',\n                            'xxxxx@gmail.com', 'xxxxxx@gmail.com','xxxxxxxxxx@gmail.com', 'xxxxxxxxxx@gmail.com']}\ndf=pd.DataFrame(student_data)\nprint(\"\\nOriginal DataFrame:\\n\",df)\nnon_duplicate = df[~df.duplicated('Roll_no')]\nprint(\"\\nRemoved duplicated rows:\\n\",non_duplicate)\n",
      "metadata": {
        "trusted": true
      },
      "outputs": [
        {
          "name": "stdout",
          "text": "\nOriginal DataFrame:\n         Name  Roll_no                 Email\n0       Amit       23        xxxx@gmail.com\n1    Praveen       54      xxxxxx@gmail.com\n2   Jagadesh       29      xxxxxx@gmail.com\n3      Rahul       36          xx@gmail.com\n4     Vishal       23        xxxx@gmail.com\n5      Suraj       38       xxxxx@gmail.com\n6     Rishab       12       xxxxx@gmail.com\n7    Sathish       45       xxxxx@gmail.com\n8       Amit       34       xxxxx@gmail.com\n9      Rahul       36      xxxxxx@gmail.com\n10   Praveen       54  xxxxxxxxxx@gmail.com\n11      Amit       23  xxxxxxxxxx@gmail.com\n\nRemoved duplicated rows:\n        Name  Roll_no             Email\n0      Amit       23    xxxx@gmail.com\n1   Praveen       54  xxxxxx@gmail.com\n2  Jagadesh       29  xxxxxx@gmail.com\n3     Rahul       36      xx@gmail.com\n5     Suraj       38   xxxxx@gmail.com\n6    Rishab       12   xxxxx@gmail.com\n7   Sathish       45   xxxxx@gmail.com\n8      Amit       34   xxxxx@gmail.com\n",
          "output_type": "stream"
        }
      ],
      "execution_count": 7
    },
    {
      "cell_type": "code",
      "source": "details=pd.DataFrame({'ID':[101, 102, 103, 104, 105, 106, 107, 108, 109, 110],\n                      'NAME':['Arun', 'Praveen', 'Harish','Pooja', 'Rahul', 'Naresh','Saurabh','Anush','Dinesh', 'Mohit'], \n                      'BRANCH':['Mech', 'Mech', 'CSE', 'CSE', 'CSE', 'EEE','EEE', 'ECE', 'ECE', 'IT']})\nprint(\"\\nOriginal DataFrame 1:\\n\", details)\nfees_status=pd.DataFrame ({'ID': [101, 102, 103, 104, 105, 106, 107, 108, 109, 110],\n                            'PENDING': ['5000', '250', 'NIL', '9000', '15000', 'NIL', '4500', '1800', '250', 'NIL']})\nprint(\"\\nOriginal DataFrame:\\n\", fees_status)\n\nprint(\"\\nMerged Dataframe\\n\",pd.merge(details,fees_status,on='ID'))",
      "metadata": {
        "trusted": true
      },
      "outputs": [
        {
          "name": "stdout",
          "text": "\nOriginal DataFrame 1:\n     ID     NAME BRANCH\n0  101     Arun   Mech\n1  102  Praveen   Mech\n2  103   Harish    CSE\n3  104    Pooja    CSE\n4  105    Rahul    CSE\n5  106   Naresh    EEE\n6  107  Saurabh    EEE\n7  108    Anush    ECE\n8  109   Dinesh    ECE\n9  110    Mohit     IT\n\nOriginal DataFrame:\n     ID PENDING\n0  101    5000\n1  102     250\n2  103     NIL\n3  104    9000\n4  105   15000\n5  106     NIL\n6  107    4500\n7  108    1800\n8  109     250\n9  110     NIL\n\nMerged Dataframe\n     ID     NAME BRANCH PENDING\n0  101     Arun   Mech    5000\n1  102  Praveen   Mech     250\n2  103   Harish    CSE     NIL\n3  104    Pooja    CSE    9000\n4  105    Rahul    CSE   15000\n5  106   Naresh    EEE     NIL\n6  107  Saurabh    EEE    4500\n7  108    Anush    ECE    1800\n8  109   Dinesh    ECE     250\n9  110    Mohit     IT     NIL\n",
          "output_type": "stream"
        }
      ],
      "execution_count": 11
    },
    {
      "cell_type": "code",
      "source": "",
      "metadata": {
        "trusted": true
      },
      "outputs": [],
      "execution_count": null
    }
  ]
}