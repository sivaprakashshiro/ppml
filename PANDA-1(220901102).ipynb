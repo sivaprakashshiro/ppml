{
 "cells": [
  {
   "cell_type": "code",
   "execution_count": 2,
   "id": "41e4eb05",
   "metadata": {},
   "outputs": [
    {
     "name": "stdout",
     "output_type": "stream",
     "text": [
      "Empty DataFrame\n",
      "Columns: []\n",
      "Index: []\n",
      "\n",
      "Series to Data frame\n",
      "\n",
      "       Emp   ID\n",
      "0   Parker  102\n",
      "1     John  107\n",
      "2    Smith  109\n",
      "3  William  114\n",
      "\n",
      " Extracting one column :\n",
      "\n",
      "0     Parker\n",
      "1       John\n",
      "2      Smith\n",
      "3    William\n",
      "Name: Emp, dtype: object\n",
      "\n",
      "Adding new column:\n",
      "\n",
      "       Emp   ID  Age\n",
      "0   Parker  102   35\n",
      "1     John  107   24\n",
      "2    Smith  109   40\n",
      "3  William  114   38\n",
      "\n",
      "Deleting one column:\n",
      "\n",
      "       Emp   ID\n",
      "0   Parker  102\n",
      "1     John  107\n",
      "2    Smith  109\n",
      "3  William  114\n",
      "\n",
      "Extracting the third row:\n",
      "\n",
      "Emp    Smith\n",
      "ID       109\n",
      "Name: 2, dtype: object\n",
      "\n",
      "Slice rows:\n",
      "      Emp   ID\n",
      "1   John  107\n",
      "2  Smith  109\n",
      "\n",
      "Adding new row values: \n",
      "        Emp   ID\n",
      "0   Parker  102\n",
      "1     John  107\n",
      "2    Smith  109\n",
      "3  William  114\n",
      "0     Dale  123\n",
      "1     Mark  143\n",
      "\n",
      "Deleting particular row:\n",
      "        Emp   ID\n",
      "0   Parker  102\n",
      "2    Smith  109\n",
      "3  William  114\n"
     ]
    },
    {
     "name": "stderr",
     "output_type": "stream",
     "text": [
      "C:\\Users\\Tcs\\AppData\\Local\\Temp\\ipykernel_4016\\193154721.py:23: FutureWarning: The frame.append method is deprecated and will be removed from pandas in a future version. Use pandas.concat instead.\n",
      "  print(\"\\nAdding new row values: \\n\",result.append(d2))\n"
     ]
    }
   ],
   "source": [
    "import pandas as pd \n",
    "#Empty DataFrame \n",
    "df = pd.DataFrame() \n",
    "print (df) \n",
    "emp = pd.Series(['Parker', 'John', 'Smith', 'William']) \n",
    "id=pd.Series([102, 107, 109, 114]) \n",
    "frame = { 'Emp': emp, 'ID': id} \n",
    "result = pd.DataFrame(frame) \n",
    "print(\"\\nSeries to Data frame\\n\") \n",
    "print(result) \n",
    "print(\"\\n Extracting one column :\\n\") \n",
    "print(result['Emp']) \n",
    "print(\"\\nAdding new column:\\n\") \n",
    "result['Age']=pd.Series([35,24,40,38]) \n",
    "print(result) \n",
    "print(\"\\nDeleting one column:\\n\") \n",
    "del result['Age'] \n",
    "print(result) \n",
    "print(\"\\nExtracting the third row:\\n\") \n",
    "print(result.loc[2]) \n",
    "print(\"\\nSlice rows:\\n\", result[1:3]) \n",
    "d2 = pd.DataFrame([['Dale', 123], ['Mark', 143]], columns = ['Emp','ID']) \n",
    "print(\"\\nAdding new row values: \\n\",result.append(d2)) \n",
    "print(\"\\nDeleting particular row:\\n\",result.drop(1))"
   ]
  },
  {
   "cell_type": "code",
   "execution_count": null,
   "id": "84313b06",
   "metadata": {},
   "outputs": [],
   "source": []
  }
 ],
 "metadata": {
  "kernelspec": {
   "display_name": "Python 3 (ipykernel)",
   "language": "python",
   "name": "python3"
  },
  "language_info": {
   "codemirror_mode": {
    "name": "ipython",
    "version": 3
   },
   "file_extension": ".py",
   "mimetype": "text/x-python",
   "name": "python",
   "nbconvert_exporter": "python",
   "pygments_lexer": "ipython3",
   "version": "3.9.12"
  }
 },
 "nbformat": 4,
 "nbformat_minor": 5
}
