{
 "cells": [
  {
   "cell_type": "code",
   "execution_count": 4,
   "id": "61090d64",
   "metadata": {},
   "outputs": [],
   "source": [
    "f=open(\"D:/saitf.txt\",\"w\")\n",
    "f.write(\"Sairisi\\n\")\n",
    "f.write(\"Sabharish\\n\")\n",
    "f.write(\"Poovannan\\n\")\n",
    "f.close()"
   ]
  },
  {
   "cell_type": "code",
   "execution_count": 5,
   "id": "244bada7",
   "metadata": {},
   "outputs": [
    {
     "name": "stdout",
     "output_type": "stream",
     "text": [
      "Sairisi\n",
      "\n",
      "Sabharish\n",
      "\n",
      "Poovannan\n",
      "\n"
     ]
    }
   ],
   "source": [
    "a=open(\"D:/saitf.txt\",\"r\")\n",
    "print(a.readline())\n",
    "print(a.readline())\n",
    "print(a.readline())\n",
    "a.close()"
   ]
  },
  {
   "cell_type": "code",
   "execution_count": 6,
   "id": "5c701e34",
   "metadata": {},
   "outputs": [],
   "source": [
    "b=open(\"D:/saitf.txt\",\"a\")\n",
    "b.write(\"Yuvasri\\n\")\n",
    "b.write(\"Rithika\\n\")\n",
    "b.close()"
   ]
  },
  {
   "cell_type": "code",
   "execution_count": 7,
   "id": "008e7b79",
   "metadata": {},
   "outputs": [
    {
     "name": "stdout",
     "output_type": "stream",
     "text": [
      "Sairisi\n",
      "Sabharish\n",
      "Poovannan\n",
      "Yuvasri\n",
      "Rithika\n",
      "\n"
     ]
    }
   ],
   "source": [
    "c=open(\"D:/saitf.txt\",\"r\")\n",
    "print(c.read())\n",
    "c.close()"
   ]
  },
  {
   "cell_type": "code",
   "execution_count": 8,
   "id": "b75dd5ac",
   "metadata": {},
   "outputs": [
    {
     "name": "stdout",
     "output_type": "stream",
     "text": [
      "['Sairisi\\n', 'Sabharish\\n', 'Poovannan\\n', 'Yuvasri\\n', 'Rithika\\n']\n"
     ]
    }
   ],
   "source": [
    "with open(\"D:/saitf.txt\",\"r\") as file:\n",
    "    lines = file.readlines()\n",
    "    print(lines)"
   ]
  },
  {
   "cell_type": "code",
   "execution_count": 10,
   "id": "ae5d275f",
   "metadata": {},
   "outputs": [
    {
     "name": "stdout",
     "output_type": "stream",
     "text": [
      "London\n"
     ]
    }
   ],
   "source": [
    "import json\n",
    "x = '{\"name\":\"Sai\",\"age\":20,\"city\":\"London\"}'\n",
    "y=json.loads(x)\n",
    "print(y[\"city\"])"
   ]
  },
  {
   "cell_type": "code",
   "execution_count": 11,
   "id": "e7f7585d",
   "metadata": {},
   "outputs": [
    {
     "name": "stdout",
     "output_type": "stream",
     "text": [
      "\"{\\\"name\\\":\\\"Sai\\\",\\\"age\\\":20,\\\"city\\\":\\\"London\\\"}\"\n"
     ]
    }
   ],
   "source": [
    "x\n",
    "{\n",
    "    \"name\":\"Sai\",\n",
    "    \"age\":20,\n",
    "    \"city\":\"London\"\n",
    "}\n",
    "y=json.dumps(x)\n",
    "print(y)"
   ]
  },
  {
   "cell_type": "code",
   "execution_count": null,
   "id": "7f3db8c7",
   "metadata": {},
   "outputs": [],
   "source": []
  }
 ],
 "metadata": {
  "kernelspec": {
   "display_name": "Python 3 (ipykernel)",
   "language": "python",
   "name": "python3"
  },
  "language_info": {
   "codemirror_mode": {
    "name": "ipython",
    "version": 3
   },
   "file_extension": ".py",
   "mimetype": "text/x-python",
   "name": "python",
   "nbconvert_exporter": "python",
   "pygments_lexer": "ipython3",
   "version": "3.9.12"
  }
 },
 "nbformat": 4,
 "nbformat_minor": 5
}
