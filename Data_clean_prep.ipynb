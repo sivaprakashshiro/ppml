{
 "cells": [
  {
   "cell_type": "code",
   "execution_count": 2,
   "id": "d4c0dbe5",
   "metadata": {},
   "outputs": [
    {
     "name": "stdout",
     "output_type": "stream",
     "text": [
      "Original Dataframe with NaN\n",
      "         one       two     three\n",
      "a  0.916437 -0.109777  1.475778\n",
      "b       NaN       NaN       NaN\n",
      "c  1.020393 -1.563974  0.515436\n",
      "d  0.002143  0.491730  0.533110\n",
      "e       NaN       NaN       NaN\n",
      "f -0.976302 -0.349615  1.038401\n",
      "\n",
      "\n",
      "Dropped DataFrame\n",
      "         one       two     three\n",
      "a  0.916437 -0.109777  1.475778\n",
      "c  1.020393 -1.563974  0.515436\n",
      "d  0.002143  0.491730  0.533110\n",
      "f -0.976302 -0.349615  1.038401\n",
      "\n",
      "\n"
     ]
    }
   ],
   "source": [
    "import pandas as pd\n",
    "import numpy as np\n",
    "\n",
    "df=pd.DataFrame(np.random.randn(4,3), index=['a','c','d','f'],\n",
    "                                    columns=['one','two','three'])\n",
    "df = df.reindex(['a','b','c','d','e','f'])\n",
    "print(\"Original Dataframe with NaN\\n\",df)\n",
    "print(\"\\n\")\n",
    "print(\"Dropped DataFrame\\n\",df.dropna())\n",
    "print(\"\\n\")"
   ]
  },
  {
   "cell_type": "code",
   "execution_count": 4,
   "id": "7c59085d",
   "metadata": {},
   "outputs": [
    {
     "name": "stdout",
     "output_type": "stream",
     "text": [
      "Original Dataframe:\n",
      "         one       two     three\n",
      "a -0.483246 -1.146581 -0.885327\n",
      "b       NaN       NaN       NaN\n",
      "c  1.349089  1.721556  0.145952\n",
      "\n",
      "\n",
      "NaN replaced with '0':\n",
      "\n",
      "        one       two     three\n",
      "a -0.483246 -1.146581 -0.885327\n",
      "b  0.000000  0.000000  0.000000\n",
      "c  1.349089  1.721556  0.145952\n"
     ]
    }
   ],
   "source": [
    "df=pd.DataFrame(np.random.randn(4,3), index=['a','c','d','f'],\n",
    "                                    columns=['one','two','three'])\n",
    "df = df.reindex(['a','b','c'])\n",
    "print(\"Original Dataframe:\\n\",df)\n",
    "print(\"\\n\")\n",
    "print(\"NaN replaced with '0':\\n\")\n",
    "print(df.fillna(0))"
   ]
  },
  {
   "cell_type": "code",
   "execution_count": 6,
   "id": "0942baf6",
   "metadata": {},
   "outputs": [
    {
     "name": "stdout",
     "output_type": "stream",
     "text": [
      "Original Dataframe:\n",
      "    one  two\n",
      "0   10   60\n",
      "1   20   70\n",
      "2   80   80\n",
      "3   40    0\n",
      "4   50   10\n",
      "\n",
      " DataFrame with replaced values:\n",
      "\n",
      "   one  two\n",
      "0    5   60\n",
      "1   20   70\n",
      "2    3    3\n",
      "3   40    0\n",
      "4   50    5\n"
     ]
    }
   ],
   "source": [
    "df=pd.DataFrame({'one':[10,20,80,40,50],\n",
    "             'two':[60,70,80,0,10]})\n",
    "print(\"Original Dataframe:\\n\",df)\n",
    "print(\"\\n DataFrame with replaced values:\\n\")\n",
    "print(df.replace({10:5,80:3}))"
   ]
  },
  {
   "cell_type": "code",
   "execution_count": 7,
   "id": "221a9fbd",
   "metadata": {},
   "outputs": [
    {
     "name": "stdout",
     "output_type": "stream",
     "text": [
      "Original Dataframe:\n",
      "         one       two     three\n",
      "a -0.924569  0.865738 -0.461772\n",
      "b       NaN       NaN       NaN\n",
      "c -1.061374 -0.762320  1.722018\n",
      "d -0.492766  0.947323  0.568534\n",
      "e       NaN       NaN       NaN\n",
      "f  0.348419  0.660224 -1.449591\n",
      "\n",
      "Nan-with True fill:\n",
      "\n",
      "a    False\n",
      "b     True\n",
      "c    False\n",
      "d    False\n",
      "e     True\n",
      "f    False\n",
      "Name: one, dtype: bool\n"
     ]
    }
   ],
   "source": [
    "df=pd.DataFrame(np.random.randn(4,3), index=['a','c','d','f'],\n",
    "                                    columns=['one','two','three'])\n",
    "df = df.reindex(['a','b','c','d','e','f'])\n",
    "print(\"Original Dataframe:\\n\",df)\n",
    "print(\"\\nNan-with True fill:\\n\")\n",
    "print(df['one'].isnull())"
   ]
  },
  {
   "cell_type": "code",
   "execution_count": 8,
   "id": "c4701ace",
   "metadata": {},
   "outputs": [
    {
     "name": "stdout",
     "output_type": "stream",
     "text": [
      "Original Dataframe:\n",
      "         one       two     three\n",
      "a  0.212458 -0.411975 -1.444887\n",
      "b       NaN       NaN       NaN\n",
      "c -1.396201 -2.653264 -1.031415\n",
      "d  0.699166  0.435224  0.419279\n",
      "e       NaN       NaN       NaN\n",
      "f -0.032647 -0.985738 -1.576168\n",
      "\n",
      "NaN - Filled with Background values:\n",
      "\n",
      "        one       two     three\n",
      "a  0.212458 -0.411975 -1.444887\n",
      "b -1.396201 -2.653264 -1.031415\n",
      "c -1.396201 -2.653264 -1.031415\n",
      "d  0.699166  0.435224  0.419279\n",
      "e -0.032647 -0.985738 -1.576168\n",
      "f -0.032647 -0.985738 -1.576168\n"
     ]
    }
   ],
   "source": [
    "df=pd.DataFrame(np.random.randn(4,3), index=['a','c','d','f'],\n",
    "                                    columns=['one','two','three'])\n",
    "df = df.reindex(['a','b','c','d','e','f'])\n",
    "print(\"Original Dataframe:\\n\",df)\n",
    "print(\"\\nNaN - Filled with Background values:\\n\")\n",
    "print(df.fillna(method='bfill'))"
   ]
  },
  {
   "cell_type": "code",
   "execution_count": null,
   "id": "ce2a1603",
   "metadata": {},
   "outputs": [],
   "source": []
  }
 ],
 "metadata": {
  "kernelspec": {
   "display_name": "Python 3 (ipykernel)",
   "language": "python",
   "name": "python3"
  },
  "language_info": {
   "codemirror_mode": {
    "name": "ipython",
    "version": 3
   },
   "file_extension": ".py",
   "mimetype": "text/x-python",
   "name": "python",
   "nbconvert_exporter": "python",
   "pygments_lexer": "ipython3",
   "version": "3.9.12"
  }
 },
 "nbformat": 4,
 "nbformat_minor": 5
}
