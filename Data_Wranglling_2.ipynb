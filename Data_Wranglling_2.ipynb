{
  "metadata": {
    "kernelspec": {
      "name": "python",
      "display_name": "Python (Pyodide)",
      "language": "python"
    },
    "language_info": {
      "codemirror_mode": {
        "name": "python",
        "version": 3
      },
      "file_extension": ".py",
      "mimetype": "text/x-python",
      "name": "python",
      "nbconvert_exporter": "python",
      "pygments_lexer": "ipython3",
      "version": "3.8"
    }
  },
  "nbformat_minor": 4,
  "nbformat": 4,
  "cells": [
    {
      "cell_type": "code",
      "source": "import pandas as pd\ndata={'Name':['Sai','Yuvasri','Poovannan',\n             'Sabharish','Sangamithra','Rithika','Rubasri'],\n     'Age':[20,18,19,20,18,17,19],\n     'Gender':['M','F','M','M','F','F','F'],\n     'Marks':[90,76,'NaN',74,65,'NaN',71]}\ndf=pd.DataFrame(data)\nprint(\"Original DataFrame:\\n\",df)\nc=avg=0\nfor ele in df['Marks']:\n    if str(ele).isnumeric():\n        c+=1\n        avg+=ele\navg/=c\ndf=df.replace(to_replace=\"NaN\",value=avg)\nprint(\"\\nReplacing NaN with average marks:\\n\",df)",
      "metadata": {
        "trusted": true
      },
      "outputs": [
        {
          "name": "stdout",
          "text": "Original DataFrame:\n           Name  Age Gender Marks\n0          Sai   20      M    90\n1      Yuvasri   18      F    76\n2    Poovannan   19      M   NaN\n3    Sabharish   20      M    74\n4  Sangamithra   18      F    65\n5      Rithika   17      F   NaN\n6      Rubasri   19      F    71\n",
          "output_type": "stream"
        },
        {
          "name": "stderr",
          "text": "<ipython-input-5-fffe512a0536>:15: FutureWarning: Downcasting behavior in `replace` is deprecated and will be removed in a future version. To retain the old behavior, explicitly call `result.infer_objects(copy=False)`. To opt-in to the future behavior, set `pd.set_option('future.no_silent_downcasting', True)`\n  df=df.replace(to_replace=\"NaN\",value=avg)\n",
          "output_type": "stream"
        },
        {
          "name": "stdout",
          "text": "\nReplacing NaN with average marks:\n           Name  Age Gender  Marks\n0          Sai   20      M   90.0\n1      Yuvasri   18      F   76.0\n2    Poovannan   19      M   75.2\n3    Sabharish   20      M   74.0\n4  Sangamithra   18      F   65.0\n5      Rithika   17      F   75.2\n6      Rubasri   19      F   71.0\n",
          "output_type": "stream"
        }
      ],
      "execution_count": 5
    },
    {
      "cell_type": "code",
      "source": "df=df[df['Marks']>=75]\ndf=df.drop(['Age'],axis=1)\nprint(\"\\nFiltering and Dropping func:\\n\",df)",
      "metadata": {
        "trusted": true
      },
      "outputs": [
        {
          "name": "stdout",
          "text": "\nFiltering and Dropping func:\n         Name Gender  Marks\n0        Sai      M   90.0\n1    Yuvasri      F   76.0\n2  Poovannan      M   75.2\n5    Rithika      F   75.2\n",
          "output_type": "stream"
        }
      ],
      "execution_count": 4
    },
    {
      "cell_type": "code",
      "source": "one = pd.DataFrame({\n    'Name':['Sai','Sub','Poo','Yuvasri','Rithika'],\n    'subject_id':['sub1','sub2','sub4','sub6','sub5'],\n    'Marks_scored':[98,95,96,92,88]},\n    index=[1,2,3,4,5])\ntwo=pd.DataFrame({\n    'Name':['Sanjay','Sangamithra','Rubasri','Nikesh','Somanath'],\n    'subject_id':['sub2','sub4','sub3','sub6','sub5'],\n    'Marks_scored':[86,95,87,99,91]},\n    index=[1,2,3,4,5])\nprint(\"\\nOriginal DataFrame 1:\\n\",one)\nprint(\"\\nOriginal DataFrame 2:\\n\",two)\nprint(pd.concat([one,two]))",
      "metadata": {
        "trusted": true
      },
      "outputs": [
        {
          "name": "stdout",
          "text": "\nOriginal DataFrame 1:\n       Name subject_id  Marks_scored\n1      Sai       sub1            98\n5      Sub       sub2            95\n3      Poo       sub4            96\n4  Yuvasri       sub6            92\n2  Rithika       sub5            88\n\nOriginal DataFrame 2:\n           Name subject_id  Marks_scored\n1       Sanjay       sub2            86\n2  Sangamithra       sub4            95\n3      Rubasri       sub3            87\n4       Nikesh       sub6            99\n5     Somanath       sub5            91\n          Name subject_id  Marks_scored\n1          Sai       sub1            98\n5          Sub       sub2            95\n3          Poo       sub4            96\n4      Yuvasri       sub6            92\n2      Rithika       sub5            88\n1       Sanjay       sub2            86\n2  Sangamithra       sub4            95\n3      Rubasri       sub3            87\n4       Nikesh       sub6            99\n5     Somanath       sub5            91\n",
          "output_type": "stream"
        }
      ],
      "execution_count": 7
    },
    {
      "cell_type": "code",
      "source": "",
      "metadata": {
        "trusted": true
      },
      "outputs": [],
      "execution_count": null
    }
  ]
}