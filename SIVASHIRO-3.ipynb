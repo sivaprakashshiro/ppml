{
 "cells": [
  {
   "cell_type": "code",
   "execution_count": 8,
   "id": "a607b115",
   "metadata": {},
   "outputs": [
    {
     "name": "stdout",
     "output_type": "stream",
     "text": [
      "Original array: [1 2 3 4 5 4 4]\n",
      "\n",
      "Indexes where the value is 4: (array([3, 5, 6], dtype=int64),)\n"
     ]
    }
   ],
   "source": [
    "import numpy as sivashiro3\n",
    "arr=sivashiro3.array([1,2,3,4,5,4,4])\n",
    "print(\"Original array:\",arr)\n",
    "x=sivashiro3.where(arr==4)\n",
    "print(\"\\nIndexes where the value is 4:\",x)"
   ]
  },
  {
   "cell_type": "code",
   "execution_count": 10,
   "id": "cc12685f",
   "metadata": {},
   "outputs": [
    {
     "name": "stdout",
     "output_type": "stream",
     "text": [
      "\n",
      "Original array: [1 2 3 4 5 6 7 8]\n",
      "\n",
      "Indices where the values are even: (array([1, 3, 5, 7], dtype=int64),)\n"
     ]
    }
   ],
   "source": [
    "arr=sivashiro3.array([1,2,3,4,5,6,7,8])\n",
    "x=sivashiro3.where(arr%2==0)\n",
    "print(\"\\nOriginal array:\",arr) \n",
    "print(\"\\nIndices where the values are even:\",x)"
   ]
  },
  {
   "cell_type": "code",
   "execution_count": 11,
   "id": "f738e9fb",
   "metadata": {},
   "outputs": [
    {
     "name": "stdout",
     "output_type": "stream",
     "text": [
      "\n",
      "indexes where the values 3 should be inserted,starting from the right: 2\n"
     ]
    }
   ],
   "source": [
    "x=sivashiro3.searchsorted(arr,3,side='left')\n",
    "print(\"\\nindexes where the values 3 should be inserted,starting from the right:\",x)"
   ]
  },
  {
   "cell_type": "code",
   "execution_count": 12,
   "id": "356cceed",
   "metadata": {},
   "outputs": [
    {
     "name": "stdout",
     "output_type": "stream",
     "text": [
      "\n",
      "Original array: [3 2 0 1]\n",
      "\n",
      "Sorted array: [0 1 2 3]\n"
     ]
    }
   ],
   "source": [
    "arr=sivashiro3.array([3,2,0,1])\n",
    "print(\"\\nOriginal array:\",arr)\n",
    "print(\"\\nSorted array:\",sivashiro3.sort(arr))"
   ]
  },
  {
   "cell_type": "code",
   "execution_count": 13,
   "id": "12d932d9",
   "metadata": {},
   "outputs": [
    {
     "name": "stdout",
     "output_type": "stream",
     "text": [
      "\n",
      "Original array: [[3 2 4]\n",
      " [5 0 1]]\n",
      "\n",
      "Sorted array: [[2 3 4]\n",
      " [0 1 5]]\n"
     ]
    }
   ],
   "source": [
    "arr=sivashiro3.array([[3,2,4],[5,0,1]])\n",
    "print(\"\\nOriginal array:\",arr)\n",
    "print(\"\\nSorted array:\",sivashiro3.sort(arr))"
   ]
  },
  {
   "cell_type": "code",
   "execution_count": 14,
   "id": "430d484c",
   "metadata": {},
   "outputs": [
    {
     "name": "stdout",
     "output_type": "stream",
     "text": [
      "\n",
      "Original array: [41 42 43 44]\n",
      "\n",
      "Filter index: [True, False, True, False]\n",
      "\n",
      "Filter array: [41 43]\n"
     ]
    }
   ],
   "source": [
    "arr=sivashiro3.array([41,42,43,44])\n",
    "x=[True,False,True,False]\n",
    "newarr=arr[x]\n",
    "print(\"\\nOriginal array:\",arr)\n",
    "print(\"\\nFilter index:\",x)\n",
    "print(\"\\nFilter array:\",newarr)"
   ]
  },
  {
   "cell_type": "code",
   "execution_count": 15,
   "id": "1fb617f9",
   "metadata": {},
   "outputs": [
    {
     "name": "stdout",
     "output_type": "stream",
     "text": [
      "\n",
      "Original array: [41 42 43 44]\n",
      "\n",
      "Filter array:condition->42: [False False  True  True]\n",
      "\n",
      "New array: [43 44]\n"
     ]
    }
   ],
   "source": [
    "arr=sivashiro3.array([41,42,43,44])\n",
    "filter_arr=arr>42\n",
    "newarr=arr[filter_arr]\n",
    "print(\"\\nOriginal array:\",arr)\n",
    "print(\"\\nFilter array:condition->42:\",filter_arr)\n",
    "print(\"\\nNew array:\",newarr)"
   ]
  },
  {
   "cell_type": "code",
   "execution_count": null,
   "id": "89930f25",
   "metadata": {},
   "outputs": [],
   "source": []
  }
 ],
 "metadata": {
  "kernelspec": {
   "display_name": "Python 3 (ipykernel)",
   "language": "python",
   "name": "python3"
  },
  "language_info": {
   "codemirror_mode": {
    "name": "ipython",
    "version": 3
   },
   "file_extension": ".py",
   "mimetype": "text/x-python",
   "name": "python",
   "nbconvert_exporter": "python",
   "pygments_lexer": "ipython3",
   "version": "3.9.12"
  }
 },
 "nbformat": 4,
 "nbformat_minor": 5
}
